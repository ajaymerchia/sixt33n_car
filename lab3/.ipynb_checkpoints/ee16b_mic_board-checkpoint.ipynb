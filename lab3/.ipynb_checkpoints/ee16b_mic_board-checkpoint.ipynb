{
 "cells": [
  {
   "cell_type": "markdown",
   "metadata": {},
   "source": [
    "# Mic Board and Mystery Capacitor\n",
    "\n",
    "### EE 16B: Designing Information Devices and Systems II, Spring 2018"
   ]
  },
  {
   "cell_type": "markdown",
   "metadata": {},
   "source": [
    "**Name 1**:\n",
    "\n",
    "**Login**: ee16b-\n",
    "\n",
    "\n",
    "**Name 2**:\n",
    "\n",
    "**Login**: ee16b-"
   ]
  },
  {
   "cell_type": "markdown",
   "metadata": {},
   "source": [
    "\n",
    "## Table of Contents\n",
    "\n",
    "\n",
    "* [Introduction](#intro)\n",
    "* [Task 1: Solder mic board](#task1)\n",
    "* [Task 2: Test your mic board](#task2)\n",
    "* [Task 3: Capacitor Value](#task3)"
   ]
  },
  {
   "cell_type": "markdown",
   "metadata": {},
   "source": [
    "<a id='intro'></a>\n",
    "## Introduction\n",
    "\n",
    "In this lab, you will gain experience with frequency responses in two different contexts. First, you will solder together a microphone PCB (mic board). Second, you will test your microphone using a pure tone sine wave. Finally, you will determine the value of a capacitor by analyzing its charging curve using the differential equations taught in lecture."
   ]
  },
  {
   "cell_type": "markdown",
   "metadata": {},
   "source": [
    "<a id='task1'></a>\n",
    "## <span style=\"color:blue\">Task 1: Solder your mic board</span>\n",
    "(See MicBoard.pdf)\n",
    "\n",
    "** Note: Pay careful attention to the orientation of the PCB board and the resister values that you are soldering. Double check all components with schematic before soldering to avoid mistakes. **\n",
    "\n",
    "### Materials\n",
    "- 1 x microphone\n",
    "- 1 x Op Amp\n",
    "- 1 x 8-pin socket\n",
    "- 2 x 1 uF Capacitors\n",
    "- 1 x 10 k$\\Omega$ Resistor\n",
    "- 1 x 1 k$\\Omega$ Resistor\n",
    "- 1 x 50 k$\\Omega$ Potentiometer\n",
    "- 6 x Jumper pins (don't break apart!)\n",
    "- 1 x Mic board PCB"
   ]
  },
  {
   "cell_type": "markdown",
   "metadata": {},
   "source": [
    "<a id='task2'></a>\n",
    "## <span style=\"color:blue\">Task 2: Test your mic board</span>\n",
    "**Setup:**\n",
    "1. Start by making sure that your micboard is powered by **5V at VDD** and **-5V at VSS**.\n",
    "2. Make sure **OS2 is grounded** and **OS1 is connected to ground by a 100K ohm** resistor.\n",
    "3. Connect an oscilloscope cable to the output.\n",
    "4. Display a **peak to peak measurement** for the current channel on the oscilloscope.\n",
    "\n",
    "**Now you are ready to tune your micboard!**\n",
    "1. **Play a 1000Hz pure tone** on your phone at a reasonable volume. Make sure to point the speaker directly at the mic and hold it a few inches away from the mic.\n",
    "2. Turn the potentiometer (with a screwdriver instead of your fingers for finer increments in gain) until you see an a sine wave with a **peak-to-peak around 5V** on your oscilloscope.\n",
    "3. Verify that the frequency of the measured sinewave is 1000Hz using your oscilloscope. You may need to adjust the time scale on the display.\n",
    "\n",
    "Frequency of a sine wave:\n",
    "\n",
    "$$f = \\frac{1}{t_{\\text{peak-to-peak}}}$$"
   ]
  },
  {
   "cell_type": "markdown",
   "metadata": {},
   "source": [
    "<img width='30px' align='left' src=\"http://inst.eecs.berkeley.edu/~ee16b/sp16/lab_pics/check.png\">\n",
    "## <span style=\"color:green\">CHECKPOINT 1</span>\n",
    "<span style=\"color:green\">Don't submit a checkoff request at this point. Just raise your hand and show your GSI your the mic board output on the oscilloscope display.</span>"
   ]
  },
  {
   "cell_type": "markdown",
   "metadata": {},
   "source": [
    "<a id='task3'></a>\n",
    "## <span style=\"color:blue\">Task 3: Capacitor Value</span>\n",
    "\n",
    "### Materials\n",
    "- Mystery Capacitor\n",
    "- Known Resistor\n",
    "- Switch\n",
    "- Oscilloscope\n",
    "- Power Supply"
   ]
  },
  {
   "cell_type": "markdown",
   "metadata": {},
   "source": [
    "\n",
    "Let's examine the following circuit diagram from Lecture Note 2:\n",
    "<img style=\"width: 500px\" src=\"images/cap-discharge.png\">\n",
    "Assume that the switch has been closed for sufficiently long $t \\leq 0$ such that the capacitor is fully charged; that is, $V_C(0) = V_S$. At time $t = 0$, we open the switch, and the capacitor discharges through the resistor. How can we analyze the behavior of $V_C(t \\geq 0)$?\n",
    "\n",
    "First, we begin by writing the capacitor equation:\n",
    "$$i_C(t) = C \\frac{dV_C}{dt}$$\n",
    "\n",
    "However, the flow of current $i(t)$ when the capacitor is discharging is from the capacitor to the resistor (counterclockwise flow), so actually:\n",
    "$$i(t) = -i_C(t) = -C \\frac{dV_C}{dt}$$\n",
    "\n",
    "Using KVL, we see that the voltage across the resistor is the same as that across the capacitor, so by Ohm's Law and substituting using the capacitor equation, we have:\n",
    "$$V_C = i(t)R = -RC \\frac{dV_C}{dt} \\implies V_C + RC\\frac{dV_C}{dt} = 0$$\n",
    "\n",
    "You may have seen this in lecture and discussion as a first-order homogeneous differential equation. From Lecture Note 2 (pg. 4), we see that the solution to this differential equation is:\n",
    "$$V_C(t) = V_C(0)e^{-t/RC}$$\n",
    "\n",
    "We have a special name for the $RC$ term in this circuit: the time constant $\\tau$. The time constant $\\tau$ is the rate at which the exponential function decays. Essentially, what this means is that while discharging, it takes the capacitor $\\tau$ seconds to reach 37.8% of its initial voltage. \n",
    "\n",
    "##### <span style=\"color:red\">Can you verify this result by building an RC circuit, charging up the capacitor with the power supply, and using the oscilloscope to determine the value of the mystery capacitor?</span>"
   ]
  },
  {
   "cell_type": "markdown",
   "metadata": {},
   "source": [
    "To estimate the value of the capacitor, we can measure the time it takes to reach a certain voltage across the capacitor. Remember that capacitors take a while to fully charge and reach steady state. This means that we can the following circuit which charges the capacitor to estimate its value:\n",
    "\n",
    "<img style=\"width: 250px\" src=\"images/mystery_circuit.png\">\n",
    "\n",
    "You may find the following equations useful:\n",
    "\n",
    "Capacitence: $Q = CV(t)$\n",
    "\n",
    "Relationship between charge and current: $\\frac{dQ}{dt} = i(t)$"
   ]
  },
  {
   "cell_type": "markdown",
   "metadata": {},
   "source": [
    "**<span style=\"color:red\">Find an equation for the voltage across the capacitor $V_C(t)$ in terms of $R$, $C$, and $t$ when the switch is open and the circuit is in steady state.</span>**"
   ]
  },
  {
   "cell_type": "markdown",
   "metadata": {},
   "source": [
    "YOUR ANSWER HERE"
   ]
  },
  {
   "cell_type": "markdown",
   "metadata": {},
   "source": [
    "**<span style=\"color:red\">Find an equation for the voltage across the capacitor $V_C(t)$ in terms of $R$, $C$, and $t$ when the switch is closed and the circuit is in steady state.</span>**"
   ]
  },
  {
   "cell_type": "markdown",
   "metadata": {},
   "source": [
    "YOUR ANSWER HERE"
   ]
  },
  {
   "cell_type": "markdown",
   "metadata": {},
   "source": [
    "**<span style=\"color:red\">Find an equation for the voltage across the capacitor $V_C(t)$ in terms of $R$, $C$, and $t$ immediately after closing the switch.</span>**"
   ]
  },
  {
   "cell_type": "markdown",
   "metadata": {},
   "source": [
    "YOUR ANSWER HERE"
   ]
  },
  {
   "cell_type": "markdown",
   "metadata": {},
   "source": [
    "**<span style=\"color:red\">Now solve for C using the equation for voltage across the capacitor $V_C(t)$ immediately after closing switch. Implement the solution below:</span>**\n",
    "\n",
    "HINT: you may find the function `np.log` useful."
   ]
  },
  {
   "cell_type": "code",
   "execution_count": null,
   "metadata": {
    "collapsed": true
   },
   "outputs": [],
   "source": [
    "import numpy as np\n",
    "\n",
    "def compute_capacitance(t, V_t, R, V_DD):\n",
    "    # TODO: your code here\n",
    "    pass"
   ]
  },
  {
   "cell_type": "markdown",
   "metadata": {},
   "source": [
    "**Setup:**\n",
    "1. Build the above circuit using $R = 100k\\Omega$ or $R = 200k\\Omega$.\n",
    "2. Connect the oscilloscope probe across the capacitor to measure $V_C(t)$.\n",
    "3. Set the time scale of the oscilloscope to 500ms or greater and the vertical scale 2V or greater. **Do not use autoscale.**\n",
    "4. Verify that the **switch is open (no current can pass)** and that **the nodes surrounding the capacitor are 0V.**\n",
    "\n",
    "**Now you are ready to charge the capacitor!**\n",
    "\n",
    "1. **Flip the switch** so the capacitor is charging.\n",
    "2. **Press the \"Stop\" button** on the oscilloscope once the display captures a large portion of the curve.\n",
    "\n",
    "\n",
    "**Analyze the results:**\n",
    "1. Use the cursors on the oscilloscope to find a time using \"delta x\" and a voltage using \"delta y\":\n",
    "    1. Press the \"cursor\" button under \"measure\"\n",
    "    2. Set the mode to \"track\" in the cursors menu.\n",
    "    3. Adjust $x_1$ to line up with the start of the rising curve.\n",
    "    4. Set $x_2$ to any value before the curve reaches its maximum value.\n",
    "    5. HINT: try to use a nice \"delta x\" value.\n",
    "2. Use the \"delta x\" and \"delta y\" values from the oscilloscope to compute the value of the mystery capacitor."
   ]
  },
  {
   "cell_type": "code",
   "execution_count": null,
   "metadata": {
    "collapsed": true
   },
   "outputs": [],
   "source": [
    "# TODO: fill in these values\n",
    "t = 0\n",
    "V_t = 0\n",
    "R = 0\n",
    "V_DD = 5"
   ]
  },
  {
   "cell_type": "code",
   "execution_count": null,
   "metadata": {
    "collapsed": true,
    "scrolled": true
   },
   "outputs": [],
   "source": [
    "C_myst = compute_capacitance(t, V_t, R, V_DD)\n",
    "\n",
    "print(C_myst)"
   ]
  },
  {
   "cell_type": "markdown",
   "metadata": {},
   "source": [
    "**<span style=\"color:red\">What is the value of your capacitor?</span>**"
   ]
  },
  {
   "cell_type": "markdown",
   "metadata": {},
   "source": [
    "YOUR ANSWER HERE"
   ]
  },
  {
   "cell_type": "markdown",
   "metadata": {},
   "source": [
    "Great job! You have solved the mystery and learned how circuits involving capacitors behave according to the differential equations taught in lecture."
   ]
  },
  {
   "cell_type": "markdown",
   "metadata": {},
   "source": [
    "<img width='30px' align='left' src=\"http://inst.eecs.berkeley.edu/~ee16b/sp16/lab_pics/check.png\">\n",
    "<br/>\n",
    "## <span style=\"color:green\">CHECKOFF</span>\n",
    "\n",
    "<span style=\"color:green\">\n",
    "Complete <a href=\"https://goo.gl/forms/bzlzPgYRSucIuIlH3\">this quiz</a>.\n",
    "<br/>Show mic board working and its frequency response.<br/>\n",
    "Show capacitor calculations for value of capacitor.<br/>\n",
    "Return mystery capacitor **after checkoff**.<br/>\n",
    "</span>"
   ]
  }
 ],
 "metadata": {
  "anaconda-cloud": {},
  "kernelspec": {
   "display_name": "Python 3",
   "language": "python",
   "name": "python3"
  },
  "language_info": {
   "codemirror_mode": {
    "name": "ipython",
    "version": 3
   },
   "file_extension": ".py",
   "mimetype": "text/x-python",
   "name": "python",
   "nbconvert_exporter": "python",
   "pygments_lexer": "ipython3",
   "version": "3.6.3"
  }
 },
 "nbformat": 4,
 "nbformat_minor": 1
}
