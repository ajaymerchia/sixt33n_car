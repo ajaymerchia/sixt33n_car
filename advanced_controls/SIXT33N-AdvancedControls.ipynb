{
 "cells": [
  {
   "cell_type": "markdown",
   "metadata": {},
   "source": [
    "# SIXT33N Project\n",
    "## Phase 6: Advanced Controls (and more!)\n",
    "\n",
    "### EE 16B: Designing Information Devices and Systems II, Fall 2018\n",
    "\n",
    "Written by Vivek Athalye and Andrew Blatner (2017)"
   ]
  },
  {
   "cell_type": "markdown",
   "metadata": {},
   "source": [
    "**Name 1**:\n",
    "\n",
    "**Login**: ee16b-\n",
    "\n",
    "\n",
    "**Name 2**:\n",
    "\n",
    "**Login**: ee16b-"
   ]
  },
  {
   "cell_type": "markdown",
   "metadata": {},
   "source": [
    "## Table of Contents\n",
    "\n",
    "* [Introduction](#intro)\n",
    "* [Task 1: Launchpad Implementation of PCA Classify](#task1)\n",
    "* [Task 2: Analyzing a Turn](#task2)\n",
    "* [Task 3: Implementing Turns](#task3)\n",
    "* [Task 4: Correcting Mechanical Errors](#task4)"
   ]
  },
  {
   "cell_type": "markdown",
   "metadata": {},
   "source": [
    "<a id='intro'></a>\n",
    "## Introduction\n",
    "\n",
    "This week, we will first implement port our PCA classifier from the iPython notebook to a file that can be run on the Launchpad. This will allow us to integrate PCA with the rest of the project.\n",
    "\n",
    "Then, we will revisit controls. Recall that our control scheme for SIXT33N modeled each wheel in the following way:\n",
    "\n",
    "$$d_R[k+1] = d_R[k] + \\theta_R u_R[k] - \\beta_R$$\n",
    "\n",
    "The open loop model has an input $u[k]$, corresponding to the PWM level, and outputs the distance for that wheel. We implemented a closed-loop controller by using the desired velocity and the difference between the wheel distances, $$\\delta[k] = d_L[k] - d_R[k]$$.\n",
    "\n",
    "In this phase, we will implement turns by modifying the closed loop control scheme we developed to make SIXT33N move straight."
   ]
  },
  {
   "cell_type": "markdown",
   "metadata": {},
   "source": [
    "<a id='task1'></a>\n",
    "## <span style=\"color:blue\">Task 1: Launchpad Implementation of PCA Classify</span>\n",
    "\n",
    "\n",
    "### Materials\n",
    "- Microphone front-end circuit\n",
    "- Launchpad + USB\n"
   ]
  },
  {
   "cell_type": "markdown",
   "metadata": {},
   "source": [
    "**<span style=\"color:red\">IMPORTANT: remove the 5V jumper (pictured below) for this step. It can cause interference during classification.</span>**\n",
    "\n",
    "<img width=400px src=\"images/5vjumper.jpg\">"
   ]
  },
  {
   "cell_type": "markdown",
   "metadata": {},
   "source": [
    "This section will walk you through implementing your classification algorithm on the Launchpad. In addition, you will need to transfer the PCA vectors and mean to the Launchpad. **Use the code below to format vectors for the Launchpad code.**"
   ]
  },
  {
   "cell_type": "code",
   "execution_count": 7,
   "metadata": {
    "collapsed": false
   },
   "outputs": [
    {
     "name": "stdout",
     "output_type": "stream",
     "text": [
      "PC2\n",
      "0.00456921, 0.00520503, 0.00842498, 0.00822722, -0.01099322, -0.06990705, -0.06855829, -0.06978631, -0.08339379, -0.09612039, -0.11262855, -0.10920118, -0.10149134, -0.0811602, -0.09418292, -0.09045398, -0.09354196, -0.0832073, -0.04146102, 0.02145135, 0.08166037, 0.13758398, 0.14115486, 0.13331641, 0.12537355, 0.12684868, 0.17409241, 0.18396688, 0.2133388, 0.23352616, 0.23149893, 0.2271428, 0.23426203, 0.23071837, 0.21989566, 0.2006303, 0.17022927, 0.14814633, 0.12986354, 0.09056051, 0.03752583, -0.02945168, -0.07162491, -0.10044903, -0.11670835, -0.12375705, -0.12186395, -0.12817324, -0.13060638, -0.13278976, -0.13203462, -0.12113719, -0.12377134, -0.12429104, -0.11872753, -0.11360166, -0.11110601, -0.09726462, -0.09033617, -0.08289973, -0.07321414, -0.05913734, -0.04696506, -0.04464656, -0.03472131, -0.02773692, -0.02049456, -0.01142175, -0.00232078, 0.00553358, 0.00927925, 0.01503708, 0.0120978, 0.0105578, 0.00676795, 0.00299651, 0.00176984, 0.00188907, 0.00630477, 0.00589305, \n",
      " \n"
     ]
    }
   ],
   "source": [
    "import numpy as np\n",
    "\n",
    "a = ''\n",
    "# v = [[ 0.07303513,  0.00087719], [ 0.08927463, -0.00781619], [ 0.09172529, -0.01471974], [ 0.09779544, -0.04443223], [ 0.08882192, -0.04889156], [ 0.13023121, -0.04620033], [ 0.12648877,  0.01163616], [ 0.14069465, -0.00452001], [ 0.16536234, -0.01471285], [ 0.16803317, -0.02062393], [ 0.21969414, -0.06201363], [ 0.24057043, -0.09579485], [ 0.23715149, -0.10541994], [ 0.20591958, -0.07595999], [ 0.1734393 ,  0.03182724], [ 0.08417365,  0.11328852], [ 0.02336402,  0.16033165], [-0.03910211,  0.20155354], [-0.09858951,  0.19450315], [-0.13957565,  0.1721077 ], [-0.18712479,  0.13081943], [-0.2194567 ,  0.06666703], [-0.24081492,  0.01483963], [-0.24627835, -0.03024058], [-0.23744425, -0.05914867], [-0.22066802, -0.07787885], [-0.19628548, -0.09428742], [-0.18064473, -0.10145868], [-0.17000051, -0.11649529], [-0.17500119, -0.13717454], [-0.16705568, -0.1392961 ], [-0.15415757, -0.14567643], [-0.13782068, -0.19008704], [-0.10969682, -0.212356  ], [-0.04712873, -0.23678561], [ 0.00065975, -0.27333353], [ 0.04951016, -0.27789686], [ 0.07931035, -0.24322782], [ 0.10479378, -0.23125014], [ 0.09572702, -0.16420673], [ 0.06761212, -0.07258106], [ 0.08042669,  0.00327503], [ 0.07649149,  0.05875088], [ 0.06535201,  0.11301998], [ 0.05288225,  0.13293775], [ 0.02217049,  0.15716798], [ 0.00713183,  0.16010008], [-0.00220252,  0.1590751 ], [-0.00668116,  0.16527616], [-0.00774377,  0.15468047], [-0.00145841,  0.14351292], [-0.00401459,  0.12701871], [ 0.00165748,  0.11564501], [ 0.01311646,  0.09333807], [ 0.00990038,  0.0940357 ], [ 0.01286626,  0.07250219], [ 0.02068232,  0.07662128], [ 0.01848974,  0.06471379], [ 0.01080403,  0.06053781], [ 0.0152828 ,  0.05437933], [ 0.00324602,  0.04501428], [-0.00558437,  0.04040769], [-0.00872378,  0.0227305 ], [-0.00874819,  0.02493387], [-0.01156671,  0.02074035], [-0.01027059,  0.01759965], [-0.00886234,  0.01141756], [-0.01430264,  0.00632051], [-0.00883179,  0.00746151], [-0.00891563,  0.00446162], [-0.00943644,  0.00516734], [-0.0067163 ,  0.00218364], [-0.00797853,  0.00167789], [-0.00947391,  0.00297479], [-0.00600518,  0.00328384], [-0.00923144,  0.00536338], [-0.00894197,  0.00579649], [-0.01018935,  0.0051229 ], [-0.01129258,  0.00294458], [-0.00987072,  0.00384474]]\n",
    "v = np.array([[-0.00376866, -0.0189012 , -0.03516227, -0.05661686, -0.07957052,\n",
    "        -0.16367538, -0.16697057, -0.19867985, -0.19598158, -0.20335335,\n",
    "        -0.21290054, -0.21741   , -0.22396845, -0.23817383, -0.2430003 ,\n",
    "        -0.21232477, -0.14828045, -0.09743033,  0.00170277,  0.05552989,\n",
    "         0.09560981,  0.09041017,  0.11476945,  0.13641752,  0.15187874,\n",
    "         0.14089254,  0.10872868,  0.06601898,  0.02715708,  0.00963226,\n",
    "         0.00533542,  0.0046061 , -0.00577104, -0.00902716, -0.02531295,\n",
    "        -0.09343613, -0.15046963, -0.17061931, -0.15684876, -0.12722816,\n",
    "        -0.0868667 , -0.02434577,  0.0444341 ,  0.08483636,  0.11691294,\n",
    "         0.13160803,  0.13240606,  0.14408423,  0.13930163,  0.14573859,\n",
    "         0.14387171,  0.13165882,  0.13413329,  0.13102033,  0.11988351,\n",
    "         0.09707641,  0.09125536,  0.0767251 ,  0.07715464,  0.06293596,\n",
    "         0.05549859,  0.05554385,  0.03320784,  0.02610693,  0.02876296,\n",
    "         0.02956124,  0.02576383,  0.02555701,  0.02177625,  0.02338174,\n",
    "         0.02623668,  0.02989526,  0.02570069,  0.0271193 ,  0.02242742,\n",
    "         0.0208822 ,  0.01817166,  0.01651639,  0.02040192,  0.01985631],\n",
    "       [ 0.00456921,  0.00520503,  0.00842498,  0.00822722, -0.01099322,\n",
    "        -0.06990705, -0.06855829, -0.06978631, -0.08339379, -0.09612039,\n",
    "        -0.11262855, -0.10920118, -0.10149134, -0.0811602 , -0.09418292,\n",
    "        -0.09045398, -0.09354196, -0.0832073 , -0.04146102,  0.02145135,\n",
    "         0.08166037,  0.13758398,  0.14115486,  0.13331641,  0.12537355,\n",
    "         0.12684868,  0.17409241,  0.18396688,  0.2133388 ,  0.23352616,\n",
    "         0.23149893,  0.2271428 ,  0.23426203,  0.23071837,  0.21989566,\n",
    "         0.2006303 ,  0.17022927,  0.14814633,  0.12986354,  0.09056051,\n",
    "         0.03752583, -0.02945168, -0.07162491, -0.10044903, -0.11670835,\n",
    "        -0.12375705, -0.12186395, -0.12817324, -0.13060638, -0.13278976,\n",
    "        -0.13203462, -0.12113719, -0.12377134, -0.12429104, -0.11872753,\n",
    "        -0.11360166, -0.11110601, -0.09726462, -0.09033617, -0.08289973,\n",
    "        -0.07321414, -0.05913734, -0.04696506, -0.04464656, -0.03472131,\n",
    "        -0.02773692, -0.02049456, -0.01142175, -0.00232078,  0.00553358,\n",
    "         0.00927925,  0.01503708,  0.0120978 ,  0.0105578 ,  0.00676795,\n",
    "         0.00299651,  0.00176984,  0.00188907,  0.00630477,  0.00589305]])\n",
    "\n",
    "for i in v[1,:].T:\n",
    "    a += str(i) + ', '\n",
    "print(\"PC2\")\n",
    "print(a)\n",
    "print(\" \")\n",
    "\n"
   ]
  },
  {
   "cell_type": "markdown",
   "metadata": {},
   "source": [
    "Your last step will be to implement your <b>data processing</b> and <b>classification</b> (just the projection, not the PCA) in the Launchpad sketch <b>`classify.ino`</b>. Since Energia does not have as many in-built functions as Python, you might have to write out the functions yourself. For example, a dot product should be written as:\n",
    "\n",
    "`float result = 0;`<br/>\n",
    "`for (i=0; i<LENGTH; i++){`<br/>\n",
    "&emsp; `result += vector1[i]*vector2[i];`<br/>\n",
    "`}`\n",
    "\n",
    "For debugging purposes, printing to Energia's serial monitor looks like the line below.\n",
    "\n",
    "<code>Serial.println(\"I'm being printed!\");</code>\n",
    "\n",
    "There are 3 code blocks (`PCA1/2/3`) that you need to modify. <b>You should not have to change anything else outside these marked code blocks.</b> \n",
    "\n",
    "**`CODE BLOCK PCA1`**\n",
    "- Copy `SNIPPET_SIZE`, `PRELENGTH` and `THRESHOLD` from this IPython Notebook.\n",
    "- Read the following to set `KMEANS_THRESHOLD` and `LOUDNESS_THRESHOLD`.\n",
    "\n",
    "**`KMEANS_THRESHOLD` filters the classification depending on a sample's distance from the closest centroid.** If the L2 norm (distance) is larger than the threshold, your classification algorithm should simply ignore it and wait for the next sample. Look at the plot of sample data and the centroids from the PCA Notebook and approximate a radius around the centroids that capture most of the data. **Try to be conservative - it's better to not classify than to misclassify.**\n",
    "\n",
    "**`LOUDNESS_THRESHOLD` filters the classification depending on the amplitude of the recorded data.** If the recorded data is too soft, we do not want to classify it as it is probably noise. Since the loudness unit is arbitrary, start by using `700`. Later, if the Launchpad classifies noise, increase this constant. If it misses a lot of speech (i.e. thinks your word is noise), decrease this constant. This variable is used internally in the enveloping function.\n",
    "\n",
    "**`CODE BLOCK PCA2`**\n",
    "- Copy the PCA vectors, mean, and centroids from this IPython notebook.\n",
    "- If you need more than 2 principal components, add a new `pca_vec3` array. \n",
    "- Using more principal components increases the dimensionality of the centroids and projections.\n",
    "\n",
    "**`CODE BLOCK PCA3`**\n",
    "- This is the actual classification algorithm.\n",
    "- Before this block, the call to `envelope` leaves the data vector in the array called `result`.\n",
    "- Project this data onto your new PCA basis.\n",
    "    - Remember to subtract the mean vector, before doing a dot product for each basis.\n",
    "    - Use the variables `proj1` and `proj2` to store the projection results.\n",
    "- Classify the projections using the centroids.\n",
    "    - Find the distance between the projected data point and each centroid using the function `l2_norm` (for 2 principal components) or `l2_norm3` (for 3 principal components). Look up the function definition in the sketch.\n",
    "    - Out of the 4 centroids, find the one with the smallest L2 norm.\n",
    "    - Verify this distance is less than `KMEANS_THRESHOLD`.\n",
    "- Print the classification to the serial monitor.\n",
    "\n",
    "Before testing the code, probe the circuit's output with the oscilloscope and make sure that it still averages around 1.65V. Now upload the sketch, (re)open the serial monitor, and press the reset button. Say your word and the Launchpad should recognize it!\n",
    "\n",
    "**<span style=\"color:red\">If the Launchpad does not classify as well as you think it should, remember to play with the `KMEANS_THRESHOLD` and `LOUDNESS_THRESHOLD` variables.</span>** To debug the sketch, you can also print out any of the variables you have used. \n",
    "\n",
    "Voila! Your SIXT33N can recognize your words!"
   ]
  },
  {
   "cell_type": "markdown",
   "metadata": {},
   "source": [
    "**<span style=\"color:red\">Summary TO DO</span>** \n",
    "- **<span style=\"color:red\">Fill in `CODE BLOCK PCA1`: Fill out `SNIPPET_SIZE`, `PRELENGTH`, `THRESHOLD`, `KMEANS_THRESHOLD` and `LOUDNESS_THRESHOLD`</span>** \n",
    "- **<span style=\"color:red\">Fill in `CODE BLOCK PCA2`: Copy the principal components, mean vector and centroids from the IPython notebook</span>**\n",
    "- **<span style=\"color:red\">Fill in `CODE BLOCK PCA3`: Do the actual classification. </span>**"
   ]
  },
  {
   "cell_type": "markdown",
   "metadata": {},
   "source": [
    "<img width='30px' align='left' src=\"http://inst.eecs.berkeley.edu/~ee16b/sp16/lab_pics/check.png\">\n",
    "<br/>\n",
    "## <span style=\"color:green\">CHECKPOINT 1</span>\n",
    "<span style=\"color:green\">**Show your GSI the Launchpad recognizing words.** Make sure the correct identified word is printed in the Serial Monitor.</span>"
   ]
  },
  {
   "cell_type": "markdown",
   "metadata": {},
   "source": [
    "<a id='task2'></a>\n",
    "## <span style=\"color:blue\">Task 2: Analyzing a Turn</span>\n",
    "\n",
    "### Materials\n",
    "- SIXT33N Car\n",
    "- Closed-loop control scheme"
   ]
  },
  {
   "cell_type": "markdown",
   "metadata": {},
   "source": [
    "**<span style=\"color:red\">IMPORTANT: replace the 5V jumper (pictured below) for the rest of the lab.</span>**\n",
    "\n",
    "<img width=400px src=\"images/5vjumper.jpg\">"
   ]
  },
  {
   "cell_type": "markdown",
   "metadata": {},
   "source": [
    "First, verify that your closed loop control scheme is still functional. Load `closed_loop.ino` onto your launchpad and make sure your car drives straight."
   ]
  },
  {
   "cell_type": "markdown",
   "metadata": {},
   "source": [
    "### We want to turn with a specific radius.  What open-loop control input would lead to turning?  \n",
    "During open-loop control, we sought to drive the car straight at our desired velocity $v^*$.  \n",
    "\n",
    "We used our model of the car ($\\theta$, $\\beta$) to calculate the open-loop control input which drives the car straight in the absence of perturbations:  \n",
    "\n",
    "$$u^{OL}_L = \\frac{v^*+\\beta_L}{\\theta} $$\n",
    "$$u^{OL}_R = \\frac{v^*+\\beta_R}{\\theta} $$\n",
    "\n",
    "Is it possible to calculate an open-loop control input which would result in turning with a desired radius?\n"
   ]
  },
  {
   "cell_type": "markdown",
   "metadata": {},
   "source": [
    "### We have been turning during Closed-loop Control\n",
    "We can get a clue about turning by considering how we did closed-loop control. We perform feedback control of SIXT33N in order to minimize the difference between the two wheels ($\\delta[k] = d_L[k] - d_R[k]$). When perturbations cause one wheel to get ahead of the other resulting in non-zero $\\delta$, feedback control turns the car to correct the error.  \n",
    "\n",
    "Let's walk through this.  \n",
    "\n",
    "Our feedback control policy is: \n",
    "$$u_L[k] = u_L^{OL} + \\frac{k_L}{\\theta_L}\\delta[k]$$\n",
    "\n",
    "$$u_R[k] = u_R^{OL} + \\frac{k_R}{\\theta_R}\\delta[k]$$\n",
    "\n",
    "\n",
    "Let's say the right wheel has moved further than the left ($d_R[k] > d_L[k]$), resulting in a negative $\\delta[k]$. A negative $\\delta[k]$ results in a reduction of $u_R[k]$, and an increase of $u_L[k]$. But what does this mean physically?\n",
    "\n",
    "If the right wheel is getting ahead of the left one, the left wheel will need to move a little faster and the right wheel a little slower for the wheels to even back out. Thus, feedback control corrects errors by turning to compensate for them.  \n",
    "\n",
    "So $\\delta \\ne 0$ can be used to turn the car. Let's get more precise.  \n"
   ]
  },
  {
   "cell_type": "markdown",
   "metadata": {},
   "source": [
    "### Turning via reference tracking\n",
    "\n",
    "We would like the car to turn with a specified radius $r$ and speed $v^*$. The controller's unit for distance is encoder ticks, but each tick is approximately 1 cm of wheel circumference.\n",
    "\n",
    "To turn, we want $\\delta$ to change at a particular rate. Without loss of generality, we'll analyze a right turn, corresponding to increasing $\\delta$. For a left turn, we simply negate $\\delta$. Our goal is to generate a reference from the desired $r$ and $v^*$ for the controller to follow. This reference will be a function of the controller's time-step.\n",
    "\n",
    "Use the following variables:\n",
    "- $k$ - time-step\n",
    "- $r$ [cm] - turn radius of the center of the car; 1 cm ~ 1 encoder tick\n",
    "- $d$ [ticks] - distance traveled by the center of the car\n",
    "- $l$ [cm] - distance between the centers of the wheels; 1 cm ~ 1 encoder tick\n",
    "- $\\omega$ [rad/tick] - angular velocity\n",
    "- $\\theta$ [rad] - angle traveled\n",
    "\n",
    "Inspect the following diagram:\n",
    "\n",
    "<center>\n",
    "<img width=\"400px\" src=\"images/turning_figure.png\">\n",
    "</center>\n",
    "\n",
    "\n",
    "\n",
    "From this geometry, can you write $\\delta[k]$ in the following form?\n",
    "$$\\delta[k] = f(r,v^*,l,k)$$\n",
    "\n",
    "<h3><span style='color:red'>**Check your answer with the lab staff!**</span></h3>\n"
   ]
  },
  {
   "cell_type": "markdown",
   "metadata": {},
   "source": [
    "<a id='task3'></a>\n",
    "## <span style=\"color:blue\">Task 3: Implementing Turns</span>\n",
    "\n",
    "### Materials\n",
    "- SIXT33N Car\n",
    "- Closed-loop control scheme\n",
    "- Plan from Task 1"
   ]
  },
  {
   "cell_type": "markdown",
   "metadata": {},
   "source": [
    "### Sampling periods \n",
    " \n",
    "In our implementation, the control loop and the data collection have different periods, $T_c$ and $T_d$ respectively.  $T_d$ is an integer multiple of $T_c$: $m=\\frac{T_d}{T_c} \\in \\mathbb{Z}^{+}$\n",
    " \n",
    "The units of $v^*$ are [ticks/$T_d$] and the units of $k$ are [seconds/$T_c$]\n",
    " \n",
    "We use $T_c=100$ms, $T_d=500ms$, so $m=5$.\n",
    "\n",
    "**<span style='color:red'> Replace $v^*$ with $\\frac{v^*}{m}$ [ticks/$T_c$]</span>**"
   ]
  },
  {
   "cell_type": "markdown",
   "metadata": {},
   "source": [
    "### Implementation\n",
    "- Open `turning.ino`.\n",
    "- Copy the required code from `closed_loop.ino` into **`CODE BLOCK CON1/2/3`**\n",
    "    - Make sure to update pin numbers if you've made changes.\n",
    "    - Setting `delta_ss` helps your car's driving converge to straight sooner!\n",
    "- **Complete the function `delta_reference` in `CODE BLOCK CON4`**.\n",
    "    - Look at `CODE BLOCK CON0` to see how this is used!\n",
    "    - Use the variables `TURN_RADIUS`, `v_star`, `CAR WIDTH`, and `k`.\n",
    "    - `delta_ss` is used in `CODE BLOCK CON0`, so don't include it here.\n",
    "- Change the array of run times so the car goes straight for a longer distance, left, straight for a shorter distance, and right for the duration you want.\n",
    "\n",
    "When you're done, try it out! SIXT33N should go straight, turn left, go straight, and turn right with a stop between each stage. It's ok if SIXT33N does not turn 90 degrees - as long as it turns you should be fine. Just make sure that it is clear when SIXT33N is turning, and when it is driving straight."
   ]
  },
  {
   "cell_type": "markdown",
   "metadata": {},
   "source": [
    "<a id='task4'></a>\n",
    "## <span style=\"color:blue\">Task 4: Correcting Mechanical Errors</span>\n",
    "\n",
    "At this stage, your car may already go perfectly straight and turn left and right equally. However, some cars may not go quite straight even when both encoder measurements are exactly the same. This can be caused by mechanical issues such as axle wobble or mismatch in the wheel sizes. In this case, the car thinks it's driving straight, so it's the best we can do using just the sensors in our control system.\n",
    "\n",
    "If the car is consistently turning slightly instead of driving straight, we can correct it by instructing the car to slightly turn in the opposite direction. \n",
    "\n",
    "**If you think your car could benefit from this, implement the function `straight_correction` in `CODE BLOCK CON5` using the variable `STRAIGHT_RADIUS`.**"
   ]
  },
  {
   "cell_type": "markdown",
   "metadata": {},
   "source": [
    "<span style='color:red'>**Show your GSI the controlled SIXT33N!**</span>\n",
    "\n",
    "In the final phase of the project, you will integrate all of the parts and control SIXT33N with your voice.\n",
    "\n",
    "<img width='30px' align='left' src=\"http://inst.eecs.berkeley.edu/~ee16b/sp16/lab_pics/check.png\">\n",
    "<br/>\n",
    "## <span style=\"color:green\">CHECKPOINT 2</span>\n",
    " <span style=\"color:green\">**Show your GSI how SIXT33N moves using turning.ino.** </span>"
   ]
  }
 ],
 "metadata": {
  "anaconda-cloud": {},
  "kernelspec": {
   "display_name": "Python 3",
   "language": "python",
   "name": "python3"
  },
  "language_info": {
   "codemirror_mode": {
    "name": "ipython",
    "version": 3
   },
   "file_extension": ".py",
   "mimetype": "text/x-python",
   "name": "python",
   "nbconvert_exporter": "python",
   "pygments_lexer": "ipython3",
   "version": "3.4.5"
  }
 },
 "nbformat": 4,
 "nbformat_minor": 1
}
