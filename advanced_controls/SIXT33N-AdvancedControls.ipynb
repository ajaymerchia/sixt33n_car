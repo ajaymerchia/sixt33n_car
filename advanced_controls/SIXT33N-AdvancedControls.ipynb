{
 "cells": [
  {
   "cell_type": "markdown",
   "metadata": {},
   "source": [
    "# SIXT33N Project\n",
    "## Phase 6: Advanced Controls (and more!)\n",
    "\n",
    "### EE 16B: Designing Information Devices and Systems II, Fall 2018\n",
    "\n",
    "Written by Vivek Athalye and Andrew Blatner (2017)"
   ]
  },
  {
   "cell_type": "markdown",
   "metadata": {},
   "source": [
    "**Name 1**:\n",
    "\n",
    "**Login**: ee16b-\n",
    "\n",
    "\n",
    "**Name 2**:\n",
    "\n",
    "**Login**: ee16b-"
   ]
  },
  {
   "cell_type": "markdown",
   "metadata": {},
   "source": [
    "## Table of Contents\n",
    "\n",
    "* [Introduction](#intro)\n",
    "* [Task 1: Launchpad Implementation of PCA Classify](#task1)\n",
    "* [Task 2: Analyzing a Turn](#task2)\n",
    "* [Task 3: Implementing Turns](#task3)\n",
    "* [Task 4: Correcting Mechanical Errors](#task4)"
   ]
  },
  {
   "cell_type": "markdown",
   "metadata": {},
   "source": [
    "<a id='intro'></a>\n",
    "## Introduction\n",
    "\n",
    "This week, we will first implement port our PCA classifier from the iPython notebook to a file that can be run on the Launchpad. This will allow us to integrate PCA with the rest of the project.\n",
    "\n",
    "Then, we will revisit controls. Recall that our control scheme for SIXT33N modeled each wheel in the following way:\n",
    "\n",
    "$$d_R[k+1] = d_R[k] + \\theta_R u_R[k] - \\beta_R$$\n",
    "\n",
    "The open loop model has an input $u[k]$, corresponding to the PWM level, and outputs the distance for that wheel. We implemented a closed-loop controller by using the desired velocity and the difference between the wheel distances, $$\\delta[k] = d_L[k] - d_R[k]$$.\n",
    "\n",
    "In this phase, we will implement turns by modifying the closed loop control scheme we developed to make SIXT33N move straight."
   ]
  },
  {
   "cell_type": "markdown",
   "metadata": {},
   "source": [
    "<a id='task1'></a>\n",
    "## <span style=\"color:blue\">Task 1: Launchpad Implementation of PCA Classify</span>\n",
    "\n",
    "\n",
    "### Materials\n",
    "- Microphone front-end circuit\n",
    "- Launchpad + USB\n"
   ]
  },
  {
   "cell_type": "markdown",
   "metadata": {},
   "source": [
    "**<span style=\"color:red\">IMPORTANT: remove the 5V jumper (pictured below) for this step. It can cause interference during classification.</span>**\n",
    "\n",
    "<img width=400px src=\"images/5vjumper.jpg\">"
   ]
  },
  {
   "cell_type": "markdown",
   "metadata": {},
   "source": [
    "This section will walk you through implementing your classification algorithm on the Launchpad. In addition, you will need to transfer the PCA vectors and mean to the Launchpad. **Use the code below to format vectors for the Launchpad code.**"
   ]
  },
  {
   "cell_type": "code",
   "execution_count": 17,
   "metadata": {
    "collapsed": false
   },
   "outputs": [
    {
     "ename": "IndexError",
     "evalue": "too many indices for array",
     "output_type": "error",
     "traceback": [
      "\u001b[1;31m---------------------------------------------------------------------------\u001b[0m",
      "\u001b[1;31mIndexError\u001b[0m                                Traceback (most recent call last)",
      "\u001b[1;32m<ipython-input-17-441073e5c7dd>\u001b[0m in \u001b[0;36m<module>\u001b[1;34m()\u001b[0m\n\u001b[0;32m     20\u001b[0m         0.00232682,  0.00238101,  0.00233596,  0.00236807,  0.00216792])\n\u001b[0;32m     21\u001b[0m \u001b[1;33m\u001b[0m\u001b[0m\n\u001b[1;32m---> 22\u001b[1;33m \u001b[1;32mfor\u001b[0m \u001b[0mi\u001b[0m \u001b[1;32min\u001b[0m \u001b[0mv\u001b[0m\u001b[1;33m[\u001b[0m\u001b[1;36m0\u001b[0m\u001b[1;33m,\u001b[0m\u001b[1;33m:\u001b[0m\u001b[1;33m]\u001b[0m\u001b[1;33m.\u001b[0m\u001b[0mT\u001b[0m\u001b[1;33m:\u001b[0m\u001b[1;33m\u001b[0m\u001b[0m\n\u001b[0m\u001b[0;32m     23\u001b[0m     \u001b[0ma\u001b[0m \u001b[1;33m+=\u001b[0m \u001b[0mstr\u001b[0m\u001b[1;33m(\u001b[0m\u001b[0mi\u001b[0m\u001b[1;33m)\u001b[0m \u001b[1;33m+\u001b[0m \u001b[1;34m', '\u001b[0m\u001b[1;33m\u001b[0m\u001b[0m\n\u001b[0;32m     24\u001b[0m \u001b[0mprint\u001b[0m\u001b[1;33m(\u001b[0m\u001b[1;34m\"PC2\"\u001b[0m\u001b[1;33m)\u001b[0m\u001b[1;33m\u001b[0m\u001b[0m\n",
      "\u001b[1;31mIndexError\u001b[0m: too many indices for array"
     ]
    }
   ],
   "source": [
    "import numpy as np\n",
    "\n",
    "a = ''\n",
    "# v = [[ 0.07303513,  0.00087719], [ 0.08927463, -0.00781619], [ 0.09172529, -0.01471974], [ 0.09779544, -0.04443223], [ 0.08882192, -0.04889156], [ 0.13023121, -0.04620033], [ 0.12648877,  0.01163616], [ 0.14069465, -0.00452001], [ 0.16536234, -0.01471285], [ 0.16803317, -0.02062393], [ 0.21969414, -0.06201363], [ 0.24057043, -0.09579485], [ 0.23715149, -0.10541994], [ 0.20591958, -0.07595999], [ 0.1734393 ,  0.03182724], [ 0.08417365,  0.11328852], [ 0.02336402,  0.16033165], [-0.03910211,  0.20155354], [-0.09858951,  0.19450315], [-0.13957565,  0.1721077 ], [-0.18712479,  0.13081943], [-0.2194567 ,  0.06666703], [-0.24081492,  0.01483963], [-0.24627835, -0.03024058], [-0.23744425, -0.05914867], [-0.22066802, -0.07787885], [-0.19628548, -0.09428742], [-0.18064473, -0.10145868], [-0.17000051, -0.11649529], [-0.17500119, -0.13717454], [-0.16705568, -0.1392961 ], [-0.15415757, -0.14567643], [-0.13782068, -0.19008704], [-0.10969682, -0.212356  ], [-0.04712873, -0.23678561], [ 0.00065975, -0.27333353], [ 0.04951016, -0.27789686], [ 0.07931035, -0.24322782], [ 0.10479378, -0.23125014], [ 0.09572702, -0.16420673], [ 0.06761212, -0.07258106], [ 0.08042669,  0.00327503], [ 0.07649149,  0.05875088], [ 0.06535201,  0.11301998], [ 0.05288225,  0.13293775], [ 0.02217049,  0.15716798], [ 0.00713183,  0.16010008], [-0.00220252,  0.1590751 ], [-0.00668116,  0.16527616], [-0.00774377,  0.15468047], [-0.00145841,  0.14351292], [-0.00401459,  0.12701871], [ 0.00165748,  0.11564501], [ 0.01311646,  0.09333807], [ 0.00990038,  0.0940357 ], [ 0.01286626,  0.07250219], [ 0.02068232,  0.07662128], [ 0.01848974,  0.06471379], [ 0.01080403,  0.06053781], [ 0.0152828 ,  0.05437933], [ 0.00324602,  0.04501428], [-0.00558437,  0.04040769], [-0.00872378,  0.0227305 ], [-0.00874819,  0.02493387], [-0.01156671,  0.02074035], [-0.01027059,  0.01759965], [-0.00886234,  0.01141756], [-0.01430264,  0.00632051], [-0.00883179,  0.00746151], [-0.00891563,  0.00446162], [-0.00943644,  0.00516734], [-0.0067163 ,  0.00218364], [-0.00797853,  0.00167789], [-0.00947391,  0.00297479], [-0.00600518,  0.00328384], [-0.00923144,  0.00536338], [-0.00894197,  0.00579649], [-0.01018935,  0.0051229 ], [-0.01129258,  0.00294458], [-0.00987072,  0.00384474]]\n",
    "v = np.array([ 0.00747644,  0.00899511,  0.01112506,  0.01370221,  0.0161115 ,\n",
    "        0.02376586,  0.02607111,  0.02716335,  0.02874066,  0.02953445,\n",
    "        0.0312359 ,  0.03315923,  0.03441238,  0.03462737,  0.03273681,\n",
    "        0.02928764,  0.02690872,  0.0245775 ,  0.02291758,  0.02059618,\n",
    "        0.01896802,  0.01607425,  0.01436676,  0.01295074,  0.01228586,\n",
    "        0.01149051,  0.01145793,  0.0113405 ,  0.01172604,  0.0122617 ,\n",
    "        0.01240871,  0.01231487,  0.01295564,  0.01311831,  0.01338612,\n",
    "        0.01459963,  0.01524599,  0.01474631,  0.01541615,  0.01471177,\n",
    "        0.01416948,  0.01403809,  0.01347965,  0.01300742,  0.0119424 ,\n",
    "        0.01056868,  0.01003968,  0.00955494,  0.00916519,  0.0086207 ,\n",
    "        0.00832993,  0.00770929,  0.00761152,  0.00731549,  0.00678713,\n",
    "        0.00703384,  0.00700866,  0.00652733,  0.00643934,  0.0056395 ,\n",
    "        0.00510942,  0.00467148,  0.00393331,  0.0035268 ,  0.00353311,\n",
    "        0.00329054,  0.00305687,  0.00287466,  0.00275811,  0.00283395,\n",
    "        0.0028356 ,  0.00271637,  0.00252241,  0.00244703,  0.00235142,\n",
    "        0.00232682,  0.00238101,  0.00233596,  0.00236807,  0.00216792])\n",
    "\n",
    "for i in v[0,:].T:\n",
    "    a += str(i) + ', '\n",
    "print(\"PC2\")\n",
    "print(a)\n",
    "print(\" \")\n",
    "\n"
   ]
  },
  {
   "cell_type": "markdown",
   "metadata": {},
   "source": [
    "Your last step will be to implement your <b>data processing</b> and <b>classification</b> (just the projection, not the PCA) in the Launchpad sketch <b>`classify.ino`</b>. Since Energia does not have as many in-built functions as Python, you might have to write out the functions yourself. For example, a dot product should be written as:\n",
    "\n",
    "`float result = 0;`<br/>\n",
    "`for (i=0; i<LENGTH; i++){`<br/>\n",
    "&emsp; `result += vector1[i]*vector2[i];`<br/>\n",
    "`}`\n",
    "\n",
    "For debugging purposes, printing to Energia's serial monitor looks like the line below.\n",
    "\n",
    "<code>Serial.println(\"I'm being printed!\");</code>\n",
    "\n",
    "There are 3 code blocks (`PCA1/2/3`) that you need to modify. <b>You should not have to change anything else outside these marked code blocks.</b> \n",
    "\n",
    "**`CODE BLOCK PCA1`**\n",
    "- Copy `SNIPPET_SIZE`, `PRELENGTH` and `THRESHOLD` from this IPython Notebook.\n",
    "- Read the following to set `KMEANS_THRESHOLD` and `LOUDNESS_THRESHOLD`.\n",
    "\n",
    "**`KMEANS_THRESHOLD` filters the classification depending on a sample's distance from the closest centroid.** If the L2 norm (distance) is larger than the threshold, your classification algorithm should simply ignore it and wait for the next sample. Look at the plot of sample data and the centroids from the PCA Notebook and approximate a radius around the centroids that capture most of the data. **Try to be conservative - it's better to not classify than to misclassify.**\n",
    "\n",
    "**`LOUDNESS_THRESHOLD` filters the classification depending on the amplitude of the recorded data.** If the recorded data is too soft, we do not want to classify it as it is probably noise. Since the loudness unit is arbitrary, start by using `700`. Later, if the Launchpad classifies noise, increase this constant. If it misses a lot of speech (i.e. thinks your word is noise), decrease this constant. This variable is used internally in the enveloping function.\n",
    "\n",
    "**`CODE BLOCK PCA2`**\n",
    "- Copy the PCA vectors, mean, and centroids from this IPython notebook.\n",
    "- If you need more than 2 principal components, add a new `pca_vec3` array. \n",
    "- Using more principal components increases the dimensionality of the centroids and projections.\n",
    "\n",
    "**`CODE BLOCK PCA3`**\n",
    "- This is the actual classification algorithm.\n",
    "- Before this block, the call to `envelope` leaves the data vector in the array called `result`.\n",
    "- Project this data onto your new PCA basis.\n",
    "    - Remember to subtract the mean vector, before doing a dot product for each basis.\n",
    "    - Use the variables `proj1` and `proj2` to store the projection results.\n",
    "- Classify the projections using the centroids.\n",
    "    - Find the distance between the projected data point and each centroid using the function `l2_norm` (for 2 principal components) or `l2_norm3` (for 3 principal components). Look up the function definition in the sketch.\n",
    "    - Out of the 4 centroids, find the one with the smallest L2 norm.\n",
    "    - Verify this distance is less than `KMEANS_THRESHOLD`.\n",
    "- Print the classification to the serial monitor.\n",
    "\n",
    "Before testing the code, probe the circuit's output with the oscilloscope and make sure that it still averages around 1.65V. Now upload the sketch, (re)open the serial monitor, and press the reset button. Say your word and the Launchpad should recognize it!\n",
    "\n",
    "**<span style=\"color:red\">If the Launchpad does not classify as well as you think it should, remember to play with the `KMEANS_THRESHOLD` and `LOUDNESS_THRESHOLD` variables.</span>** To debug the sketch, you can also print out any of the variables you have used. \n",
    "\n",
    "Voila! Your SIXT33N can recognize your words!"
   ]
  },
  {
   "cell_type": "markdown",
   "metadata": {},
   "source": [
    "**<span style=\"color:red\">Summary TO DO</span>** \n",
    "- **<span style=\"color:red\">Fill in `CODE BLOCK PCA1`: Fill out `SNIPPET_SIZE`, `PRELENGTH`, `THRESHOLD`, `KMEANS_THRESHOLD` and `LOUDNESS_THRESHOLD`</span>** \n",
    "- **<span style=\"color:red\">Fill in `CODE BLOCK PCA2`: Copy the principal components, mean vector and centroids from the IPython notebook</span>**\n",
    "- **<span style=\"color:red\">Fill in `CODE BLOCK PCA3`: Do the actual classification. </span>**"
   ]
  },
  {
   "cell_type": "markdown",
   "metadata": {},
   "source": [
    "<img width='30px' align='left' src=\"http://inst.eecs.berkeley.edu/~ee16b/sp16/lab_pics/check.png\">\n",
    "<br/>\n",
    "## <span style=\"color:green\">CHECKPOINT 1</span>\n",
    "<span style=\"color:green\">**Show your GSI the Launchpad recognizing words.** Make sure the correct identified word is printed in the Serial Monitor.</span>"
   ]
  },
  {
   "cell_type": "markdown",
   "metadata": {},
   "source": [
    "<a id='task2'></a>\n",
    "## <span style=\"color:blue\">Task 2: Analyzing a Turn</span>\n",
    "\n",
    "### Materials\n",
    "- SIXT33N Car\n",
    "- Closed-loop control scheme"
   ]
  },
  {
   "cell_type": "markdown",
   "metadata": {},
   "source": [
    "**<span style=\"color:red\">IMPORTANT: replace the 5V jumper (pictured below) for the rest of the lab.</span>**\n",
    "\n",
    "<img width=400px src=\"images/5vjumper.jpg\">"
   ]
  },
  {
   "cell_type": "markdown",
   "metadata": {},
   "source": [
    "First, verify that your closed loop control scheme is still functional. Load `closed_loop.ino` onto your launchpad and make sure your car drives straight."
   ]
  },
  {
   "cell_type": "markdown",
   "metadata": {},
   "source": [
    "### We want to turn with a specific radius.  What open-loop control input would lead to turning?  \n",
    "During open-loop control, we sought to drive the car straight at our desired velocity $v^*$.  \n",
    "\n",
    "We used our model of the car ($\\theta$, $\\beta$) to calculate the open-loop control input which drives the car straight in the absence of perturbations:  \n",
    "\n",
    "$$u^{OL}_L = \\frac{v^*+\\beta_L}{\\theta} $$\n",
    "$$u^{OL}_R = \\frac{v^*+\\beta_R}{\\theta} $$\n",
    "\n",
    "Is it possible to calculate an open-loop control input which would result in turning with a desired radius?\n"
   ]
  },
  {
   "cell_type": "markdown",
   "metadata": {},
   "source": [
    "### We have been turning during Closed-loop Control\n",
    "We can get a clue about turning by considering how we did closed-loop control. We perform feedback control of SIXT33N in order to minimize the difference between the two wheels ($\\delta[k] = d_L[k] - d_R[k]$). When perturbations cause one wheel to get ahead of the other resulting in non-zero $\\delta$, feedback control turns the car to correct the error.  \n",
    "\n",
    "Let's walk through this.  \n",
    "\n",
    "Our feedback control policy is: \n",
    "$$u_L[k] = u_L^{OL} + \\frac{k_L}{\\theta_L}\\delta[k]$$\n",
    "\n",
    "$$u_R[k] = u_R^{OL} + \\frac{k_R}{\\theta_R}\\delta[k]$$\n",
    "\n",
    "\n",
    "Let's say the right wheel has moved further than the left ($d_R[k] > d_L[k]$), resulting in a negative $\\delta[k]$. A negative $\\delta[k]$ results in a reduction of $u_R[k]$, and an increase of $u_L[k]$. But what does this mean physically?\n",
    "\n",
    "If the right wheel is getting ahead of the left one, the left wheel will need to move a little faster and the right wheel a little slower for the wheels to even back out. Thus, feedback control corrects errors by turning to compensate for them.  \n",
    "\n",
    "So $\\delta \\ne 0$ can be used to turn the car. Let's get more precise.  \n"
   ]
  },
  {
   "cell_type": "markdown",
   "metadata": {},
   "source": [
    "### Turning via reference tracking\n",
    "\n",
    "We would like the car to turn with a specified radius $r$ and speed $v^*$. The controller's unit for distance is encoder ticks, but each tick is approximately 1 cm of wheel circumference.\n",
    "\n",
    "To turn, we want $\\delta$ to change at a particular rate. Without loss of generality, we'll analyze a right turn, corresponding to increasing $\\delta$. For a left turn, we simply negate $\\delta$. Our goal is to generate a reference from the desired $r$ and $v^*$ for the controller to follow. This reference will be a function of the controller's time-step.\n",
    "\n",
    "Use the following variables:\n",
    "- $k$ - time-step\n",
    "- $r$ [cm] - turn radius of the center of the car; 1 cm ~ 1 encoder tick\n",
    "- $d$ [ticks] - distance traveled by the center of the car\n",
    "- $l$ [cm] - distance between the centers of the wheels; 1 cm ~ 1 encoder tick\n",
    "- $\\omega$ [rad/tick] - angular velocity\n",
    "- $\\theta$ [rad] - angle traveled\n",
    "\n",
    "Inspect the following diagram:\n",
    "\n",
    "<center>\n",
    "<img width=\"400px\" src=\"images/turning_figure.png\">\n",
    "</center>\n",
    "\n",
    "\n",
    "\n",
    "From this geometry, can you write $\\delta[k]$ in the following form?\n",
    "$$\\delta[k] = f(r,v^*,l,k)$$\n",
    "\n",
    "<h3><span style='color:red'>**Check your answer with the lab staff!**</span></h3>\n"
   ]
  },
  {
   "cell_type": "markdown",
   "metadata": {},
   "source": [
    "<a id='task3'></a>\n",
    "## <span style=\"color:blue\">Task 3: Implementing Turns</span>\n",
    "\n",
    "### Materials\n",
    "- SIXT33N Car\n",
    "- Closed-loop control scheme\n",
    "- Plan from Task 1"
   ]
  },
  {
   "cell_type": "markdown",
   "metadata": {},
   "source": [
    "### Sampling periods \n",
    " \n",
    "In our implementation, the control loop and the data collection have different periods, $T_c$ and $T_d$ respectively.  $T_d$ is an integer multiple of $T_c$: $m=\\frac{T_d}{T_c} \\in \\mathbb{Z}^{+}$\n",
    " \n",
    "The units of $v^*$ are [ticks/$T_d$] and the units of $k$ are [seconds/$T_c$]\n",
    " \n",
    "We use $T_c=100$ms, $T_d=500ms$, so $m=5$.\n",
    "\n",
    "**<span style='color:red'> Replace $v^*$ with $\\frac{v^*}{m}$ [ticks/$T_c$]</span>**"
   ]
  },
  {
   "cell_type": "markdown",
   "metadata": {},
   "source": [
    "### Implementation\n",
    "- Open `turning.ino`.\n",
    "- Copy the required code from `closed_loop.ino` into **`CODE BLOCK CON1/2/3`**\n",
    "    - Make sure to update pin numbers if you've made changes.\n",
    "    - Setting `delta_ss` helps your car's driving converge to straight sooner!\n",
    "- **Complete the function `delta_reference` in `CODE BLOCK CON4`**.\n",
    "    - Look at `CODE BLOCK CON0` to see how this is used!\n",
    "    - Use the variables `TURN_RADIUS`, `v_star`, `CAR WIDTH`, and `k`.\n",
    "    - `delta_ss` is used in `CODE BLOCK CON0`, so don't include it here.\n",
    "- Change the array of run times so the car goes straight for a longer distance, left, straight for a shorter distance, and right for the duration you want.\n",
    "\n",
    "When you're done, try it out! SIXT33N should go straight, turn left, go straight, and turn right with a stop between each stage. It's ok if SIXT33N does not turn 90 degrees - as long as it turns you should be fine. Just make sure that it is clear when SIXT33N is turning, and when it is driving straight."
   ]
  },
  {
   "cell_type": "markdown",
   "metadata": {},
   "source": [
    "<a id='task4'></a>\n",
    "## <span style=\"color:blue\">Task 4: Correcting Mechanical Errors</span>\n",
    "\n",
    "At this stage, your car may already go perfectly straight and turn left and right equally. However, some cars may not go quite straight even when both encoder measurements are exactly the same. This can be caused by mechanical issues such as axle wobble or mismatch in the wheel sizes. In this case, the car thinks it's driving straight, so it's the best we can do using just the sensors in our control system.\n",
    "\n",
    "If the car is consistently turning slightly instead of driving straight, we can correct it by instructing the car to slightly turn in the opposite direction. \n",
    "\n",
    "**If you think your car could benefit from this, implement the function `straight_correction` in `CODE BLOCK CON5` using the variable `STRAIGHT_RADIUS`.**"
   ]
  },
  {
   "cell_type": "markdown",
   "metadata": {},
   "source": [
    "<span style='color:red'>**Show your GSI the controlled SIXT33N!**</span>\n",
    "\n",
    "In the final phase of the project, you will integrate all of the parts and control SIXT33N with your voice.\n",
    "\n",
    "<img width='30px' align='left' src=\"http://inst.eecs.berkeley.edu/~ee16b/sp16/lab_pics/check.png\">\n",
    "<br/>\n",
    "## <span style=\"color:green\">CHECKPOINT 2</span>\n",
    " <span style=\"color:green\">**Show your GSI how SIXT33N moves using turning.ino.** </span>"
   ]
  }
 ],
 "metadata": {
  "anaconda-cloud": {},
  "kernelspec": {
   "display_name": "Python 3",
   "language": "python",
   "name": "python3"
  },
  "language_info": {
   "codemirror_mode": {
    "name": "ipython",
    "version": 3
   },
   "file_extension": ".py",
   "mimetype": "text/x-python",
   "name": "python",
   "nbconvert_exporter": "python",
   "pygments_lexer": "ipython3",
   "version": "3.4.5"
  }
 },
 "nbformat": 4,
 "nbformat_minor": 1
}
