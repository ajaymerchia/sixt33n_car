{
 "cells": [
  {
   "cell_type": "markdown",
   "metadata": {},
   "source": [
    "# Lab 1: Debugging Lab\n",
    "### EE16B: Designing Information Devices and Systems II, Fall 2018"
   ]
  },
  {
   "cell_type": "markdown",
   "metadata": {},
   "source": [
    "**Name 1**: Ajay Merchia\n",
    "\n",
    "**Login**: ee16b-aas\n",
    "\n",
    "\n",
    "**Name 2**: Moses Surumen\n",
    "\n",
    "**Login**: ee16b-aco"
   ]
  },
  {
   "cell_type": "markdown",
   "metadata": {},
   "source": [
    "## Introduction\n",
    "Welcome to the first lab!  We will build our first circuit on a breadboard, yay!  And thus learn about op amps, breadboards, testing and measurement equipment, and that mysterious art \"debugging\".\n",
    "\n",
    "<span style=\"color:red\">**Read EE 16B Guide to Debugging.pdf, included in the lab files.**</span>"
   ]
  },
  {
   "cell_type": "markdown",
   "metadata": {},
   "source": [
    "<a id='part0'></a>\n",
    "## <span style=\"color:blue\">Part 0: Connect your breadboard rails </span>\n",
    "\n",
    "<center>\n",
    "<img width='500px'\n",
    "src=\"images/broken_breadboard_rails.jpg\">\n",
    "</center>\n",
    "\n",
    "Your breadboard power/ground rails are not continuous - they are disconnected at the circled spot in the above image. Before you go any further, bridge these rails with small wires so that your entire rail is properly powered."
   ]
  },
  {
   "cell_type": "markdown",
   "metadata": {},
   "source": [
    "### Operational Amplifier (Op Amp)\n",
    "#### Ideal Op Amp\n",
    "\n",
    "<img width='250px'\n",
    "src=\"images/ideal_op_amp.png\">\n",
    "\n",
    "- $v_N = $ Inverting Input\n",
    "- $v_P = $ Noninverting Input\n",
    "- $v_{OUT} = A_V(v_P - v_N)$\n",
    "    - $A_V$ is very large\n",
    "    \n",
    "#### Op Amp Pinout\n",
    "<center>\n",
    "<img width='250px'\n",
    "src=\"images/op_amp_pinout.png\">\n",
    "</center>\n",
    "\n",
    "- Op Amps are active devices\n",
    "    - Output is bounded by rails - **VDD/V+ and VSS/V-**\n",
    "- For 0 to 5 V signals\n",
    "    - VDD = 5 V\n",
    "    - VSS = GND\n",
    "- For -5 to 5V signals\n",
    "    - VDD = 5 V\n",
    "    - VSS = -5 V\n",
    "    \n",
    "<span style=\"color:red\">**What should VDD and VSS be for a sinusoid centered at 0V?**</span>"
   ]
  },
  {
   "cell_type": "markdown",
   "metadata": {
    "collapsed": true
   },
   "source": [
    "### Inverting Amplifier\n",
    "<center>\n",
    "<img width='300px'\n",
    "src=\"images/inverting_amp.png\">\n",
    "</center>\n",
    "\n",
    "In negative feedback, $v_N = v_P$\n",
    "\n",
    "$$v_P = 0 \\implies v_N = 0$$\n",
    "$$i_{in} = \\frac{V_{in}-v_N}{R_{in}}$$\n",
    "$$V_{out} = -R_f*i_{in}$$\n",
    "$$V_{out} = -V_{in}\\frac{R_f}{R_{in}}$$"
   ]
  },
  {
   "cell_type": "markdown",
   "metadata": {
    "collapsed": true
   },
   "source": [
    "<a id='part1'></a>\n",
    "## <span style=\"color:blue\">Part 1: Build your first circuit! </span>\n",
    "\n",
    "<center>\n",
    "<img width='500px'\n",
    "src=\"images/circuit_build.png\">\n",
    "</center>\n",
    "\n",
    "Build the inverting amplifier shown.\n",
    "\n",
    "### Test your amplifier\n",
    "Use a sinusoidal signal:\n",
    "- 1 kHz\n",
    "- 100 mVpp - **think about what this means for the min and max voltages.**\n",
    "- 0 mV offset\n",
    "\n",
    "Use the oscilloscope to probe $V_{in}$ and $V_{out}$ simultaneously. **DO NOT insert the oscilloscope probe directly into the breadboard - make sure you use the hook attachment connected to a wire, and probe with the wire.**\n",
    "\n",
    "#### Sanity Check Question:\n",
    "<span style=\"color:red\">**What should VDD and VSS be?**</span>\n",
    "Hint: what is the range of the input sinusoidal signal? What is our gain? What will the range of the output signal be?"
   ]
  },
  {
   "cell_type": "markdown",
   "metadata": {},
   "source": [
    "<a id='part2'></a>\n",
    "## <span style=\"color:blue\">Part 2: Understand your first circuit! </span>\n",
    "Are you a human of action or thought?  Answer: both."
   ]
  },
  {
   "cell_type": "markdown",
   "metadata": {},
   "source": [
    "### What is the circuit?  What does it do to the input signal?\n",
    "Answer: Inverting Amplifier Circuit. It inverts the V_in and produces a V_out = -R2/R1 * V_in"
   ]
  },
  {
   "cell_type": "markdown",
   "metadata": {},
   "source": [
    "### How can you change the gain?\n",
    "Answer: Adjust the ratio of the resistors"
   ]
  },
  {
   "cell_type": "markdown",
   "metadata": {},
   "source": [
    "### What happens when you:\n",
    "#### A) Flip the polarity (i.e. switch the inputs to the +/- terminals of the op amp)?\n",
    "Answer: Positive Feedback\n",
    "#### B) Short \"+\" and \"-\" input terminals?\n",
    "Answer: In theory V_out = 0, In practice, noise will likely rail to either V_dd or V_ss\n",
    "#### C) What is the max gain, given our input signal and rail voltages of +/- 5V?  (hint: what is the maximum amplitude the circuit can output?)\n",
    "Answer: Max Amplitude is 10V, thus the gain is 100\n",
    "#### D) What happens if the Op Amp VSS = -1 V?\n",
    "Answer: Max Amplitude is 6V. It will reach 5V on the positive side but will rail on the negative.\n",
    "#### E) Keeping $\\frac{R_f}{R_{in}}$ constant, do the resistors' values affect circuit output / performance (ex: $\\frac{100k \\Omega}{10k\\Omega}$ equivalent to $\\frac{100\\Omega}{10\\Omega}$)? Is it better to use large or small resistor values, and why?\n",
    "Answer: In theory, no. Using large resistor values are better because they reduce noise\n"
   ]
  },
  {
   "cell_type": "markdown",
   "metadata": {},
   "source": [
    "<a id='part3'></a>\n",
    "## <span style=\"color:blue\">Part 3: Exercise in Debugging! </span>\n",
    "\n",
    "Now swap circuits with a neighboring lab group\n",
    "- Change one thing on your neighbor's breadboard (move a wire, disconnect a wire, remove a component)\n",
    "- Don't short anything!\n",
    "\n",
    "Swap back and figure out what was changed!"
   ]
  },
  {
   "cell_type": "markdown",
   "metadata": {},
   "source": [
    "<a id='part4'></a>\n",
    "## <span style=\"color:blue\">Part 4: Depart with Grace (and a Checkoff)! </span>\n",
    "    \n",
    "### For Checkoff:\n",
    "\n",
    "- First take the checkoff quiz: http://tinyurl.com/debugLabQuiz\n",
    "- Show your GSI both the input and output signals on your oscilloscope at the same time.\n",
    "- Show your GSI your completed quiz.\n",
    "- Show your GSI your order confirmation for your TI opamps\n",
    "- Be prepared to answer some questions\n",
    "\n",
    "Do this, and your GSI will forever hold you in the highest esteem:\n",
    "- Turn off all lab equipment\n",
    "- Clean up your station!!\n",
    "- Leave the station as you found it!\n"
   ]
  },
  {
   "cell_type": "code",
   "execution_count": null,
   "metadata": {
    "collapsed": true
   },
   "outputs": [],
   "source": []
  }
 ],
 "metadata": {
  "anaconda-cloud": {},
  "kernelspec": {
   "display_name": "Python 3",
   "language": "python",
   "name": "python3"
  },
  "language_info": {
   "codemirror_mode": {
    "name": "ipython",
    "version": 3
   },
   "file_extension": ".py",
   "mimetype": "text/x-python",
   "name": "python",
   "nbconvert_exporter": "python",
   "pygments_lexer": "ipython3",
   "version": "3.6.3"
  }
 },
 "nbformat": 4,
 "nbformat_minor": 2
}
