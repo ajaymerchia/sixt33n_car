{
 "cells": [
  {
   "cell_type": "markdown",
   "metadata": {},
   "source": [
    "# Color Organ\n",
    "### EE 16B: Designing Information Devices and Systems II, Fall 2018"
   ]
  },
  {
   "cell_type": "markdown",
   "metadata": {},
   "source": [
    "**Name 1**:\n",
    "\n",
    "**Login**: ee16b-\n",
    "\n",
    "\n",
    "**Name 2**:\n",
    "\n",
    "**Login**: ee16b-"
   ]
  },
  {
   "cell_type": "markdown",
   "metadata": {},
   "source": [
    "## Table of Contents\n",
    "\n",
    "* [Introduction](#intro)\n",
    "* [Before You Begin: Tuning Your Micboard](#beforeyoubegin)\n",
    "* [Task 0: Speaker-Microphone Frequency Response Data](#task0)\n",
    "* [Task 1: The Bass Beats](#task1)\n",
    "* [Task 2: Amplify the Mic](#task2)\n",
    "* [Task 3: The Treble](#task3)\n",
    "* [Task 4: The Midrange](#task4)"
   ]
  },
  {
   "cell_type": "markdown",
   "metadata": {},
   "source": [
    "<a id='intro'></a>\n",
    "## Introduction\n",
    "In this lab, you will design several filters by choosing desired corner frequencies and calculating appropriate resistor and capacitor values. These filters will ultimately be used to flash LEDs in time to music - your very own color organ!\n",
    "\n",
    "What is a color organ? It is your own lightshow circuit. Check it out here.\n",
    "\n",
    "https://www.youtube.com/watch?v=x5hGF7NsG7Q\n",
    "\n",
    "For our rendition, you will filter three ranges of audible frequencies to drive three LED's that flash in time to the music.\n",
    "\n",
    "The audible range is actually a somewhat small spectrum of frequencies, especially when using only first-order filters (**why might this be a problem?**). Take a look at the image below to get an idea of what range of frequencies we will be working with.\n",
    "\n",
    "<img style=\"width: 600px\" src=\"images/aud-sptrm.jpg\">\n",
    "\n",
    "You will be targeting the Bass, Mid-range, and Treble sections. In the last lab, you measured the frequency response of the speaker-microphone system used in Color Organ. You may have seen that your speakers (phone, headpones, etc.) and the microphone don't create and pick up frequenicies as well on the far ends of the audible spectrum. However, we can compensate for this.\n",
    "\n",
    "We will define the Bass, Mid-range, and Treble sections as follows:\n",
    "- Bass: [0 Hz] - [100 ~ 500 Hz]\n",
    "- Mid-range: [1200 ~ 1500 Hz] - [3500 ~ 5000 Hz]\n",
    "- Treble: [6000 ~ 8000 Hz] - [$\\infty$]\n",
    "\n",
    "<span style=\"color:red\">**Note that these frequency ranges are *guidelines*. The goal of the lab is to independently light up the 3 LED's using 3 different frequencies. You have freedom to choose (reasonable) cutoffs and amplifier gains. Remember that you measured the frequency response of your speaker-microphone system in the previous lab!**</span>\n",
    "\n",
    "The final circuit will be more complex and have more components than circuits in previous labs. Our completed Color Organ will look something like this:\n",
    "\n",
    "<img style=\"width: 500px\" src=\"images/low-high-band-flow.png\">\n",
    "\n",
    "With a band-pass filter constructed like so:\n",
    "\n",
    "<img style=\"width: 400px\" src=\"images/RightFilter.png\">\n",
    "\n",
    "<span style=\"color:red\">**Be sure to plan ahead when constructing your circuit.**</span>\n",
    "\n",
    "**A few tips:**\n",
    "- Use +5V and -5V rails on your breadboard. \n",
    "- Use short wires from the power rails to the closest holes in columns A or J on your breadboard.\n",
    "- Connect all equipment grounds and your Launchpad grounds together.\n",
    "- Layout your circuit in a way that matches the block diagram above. Examples:\n",
    "    - Op amp outputs are on the top of the IC, and the inputs are on the bottom. The high-pass filter used in the band-pass filter should be below the buffer (the same side as pins 4 and 5 of the op amp).\n",
    "    - The same op amp IC can be used for the band-pass buffer and for the band-pass amplifier.\n"
   ]
  },
  {
   "cell_type": "markdown",
   "metadata": {},
   "source": [
    "<a id='beforeyoubegin'></a>\n",
    "## <span style=\"color:blue\">Before You Begin: Tuning Your Micboard</span>\n",
    "**Setup:**\n",
    "1. Start by making sure that your micboard is powered by **5V at VDD** and **-5V at VSS**.\n",
    "2. Make sure **OS2 is grounded** and **OS1 is connected to ground by a 100K ohm** resistor.\n",
    "3. Connect an oscilloscope cable to the output.\n",
    "4. Display a **peak to peak measurement** for the current channel on the oscilloscope.\n",
    "\n",
    "**Now you are ready to tune your micboard!**\n",
    "1. **Play a pure tone in the midband range** on your phone at a reasonable volume. Make sure to point the speaker directly at the mic and hold it a few inches away from the mic.\n",
    "2. Turn the potentiometer (with a screwdriver instead of your fingers for finer increments in gain) until you see an a sine wave with a **peak-to-peak around 5V** on your oscilloscope.\n",
    "\n",
    "<span style=\"color:green\">**Congratulations! You have successfully tuned your micboard!**</span>\n"
   ]
  },
  {
   "cell_type": "markdown",
   "metadata": {},
   "source": [
    "<a id='task0'></a>\n",
    "## <span style=\"color:blue\">Task 0: Measure Speaker-Microphone Frequency Response</span>\n",
    "The purpose of this task is to learn how your Speaker-Microphone system will react to different frequencies.  You can refer to your findings for guidance on choosing gains for the amplifiers for individual bands of your color organ. \n",
    "\n",
    "**Make sure the gain of your mic board is set so you get a maximum peak-to-peak voltage of 4-5 volts**\n",
    "Keep your smart phone / speaker at a fixed distance from your micboard. (You will need to place the phone at a distance from the micboard which ensures no audio frequency causes the mic output to rail (hit Vdd or Vss from the power supply).\n",
    "\n",
    "Use the oscilloscope to collect the amplitude of $V_{out}$ at each frequency of array freq. We do not have a measurable input signal $V_{in}$, so we normalize the maximum of the frequency response to 1. \n",
    "\n"
   ]
  },
  {
   "cell_type": "code",
   "execution_count": 1,
   "metadata": {
    "collapsed": true
   },
   "outputs": [],
   "source": [
    "import numpy as np\n",
    "import matplotlib.pyplot as plt\n",
    "%matplotlib inline"
   ]
  },
  {
   "cell_type": "code",
   "execution_count": 3,
   "metadata": {},
   "outputs": [
    {
     "data": {
      "text/plain": [
       "Text(0,0.5,'Gain (Volts/Volt)')"
      ]
     },
     "execution_count": 3,
     "metadata": {},
     "output_type": "execute_result"
    },
    {
     "data": {
      "image/png": "[encoded data removed]",
      "text/plain": [
       "<Figure size 432x288 with 1 Axes>"
      ]
     },
     "metadata": {
      "needs_background": "light"
     },
     "output_type": "display_data"
    }
   ],
   "source": [
    "#Record the amplitude of the output sinusoid at each given frequency\n",
    "freq = [100, 150, 200, 300, 450, 600, 800, 1000, 1500, 2000, 3000, 4000, 5500, 7000, 8500, 10000]\n",
    "Vpp = [0,1,1,1,1,1,1,1,1,1,1,1,1,1,1,0]\n",
    "\n",
    "Gain = np.array(Vpp)/max(Vpp)\n",
    "\n",
    "p = plt.semilogx(freq, Gain)\n",
    "plt.title('Gain vs Frequency')\n",
    "plt.xlabel('Frequency (Hz)')\n",
    "plt.ylabel('Gain (Volts/Volt)')\n"
   ]
  },
  {
   "cell_type": "markdown",
   "metadata": {},
   "source": [
    "What do you notice about the shape of this function? Which frequencies result in large output? \n",
    "Ultimately you want your circuit to have around the same output gain for all frequencies. With this in mind, do you see why finding the frequency response of the system is helpful?"
   ]
  },
  {
   "cell_type": "markdown",
   "metadata": {},
   "source": [
    "<a id='task1'></a>\n",
    "## <span style=\"color:blue\">Task 1: The Bass Beats</span>\n",
    "\n",
    "### Materials\n",
    "- Various Caps and Resistors"
   ]
  },
  {
   "cell_type": "markdown",
   "metadata": {},
   "source": [
    "First, lets tackle the low-frequency sounds. You will begin by choosing a corner frequency for your low pass filter. Remember that in a first order low pass filter the amplitude of frequencies after the corner frequency are attenuated. The frequencies are attentuated slowly rather than zeroed out immediately, so frequencies that are close to the corner frequency might not be filtered as well as you want. The Bode plot below might be helpful in visualizing this:\n",
    "\n",
    "<img style=\"width: 450px\" src=\"images/LPF_Bode.png\">\n",
    "\n",
    "You may want to choose a corner frequency closer to the middle of the bass frequency range to make sure only the bass ones are making it through. \n",
    "\n",
    "<b>Pick a frequency in the range 100 - 200 Hz.</b>\n",
    "\n",
    "Again, don't be afraid to change it later - you can always swap out a resistor to get the range you want.\n",
    "\n",
    "Since we have far more resistor values than we have capacitors values, you should choose an easy capacitor value. Try to pick one that that lets you choose resistors in the $1k-10k\\Omega$ range.\n",
    "\n",
    "(Hint: remember that, for Hertz, $~f_c = \\frac{1}{2\\pi R C}$.)"
   ]
  },
  {
   "cell_type": "code",
   "execution_count": null,
   "metadata": {
    "collapsed": true
   },
   "outputs": [],
   "source": [
    "Cornerfreq = 0 #YOUR VALUE HERE\n",
    "C = 0 #YOUR VALUE HERE\n",
    "\n",
    "R = 0 #YOUR CODE HERE\n",
    "\n",
    "print(\"Resistor: \", R)\n",
    "print(\"Capacitor: \", C)"
   ]
  },
  {
   "cell_type": "markdown",
   "metadata": {},
   "source": [
    "Now that you have selected your RC values, build the low pass filter on your breadboard. Remember that we will have three different filters, so budget your space accordingly! \n",
    "\n",
    "**<span style=\"color:red\">Test your filter with the signal generator and your oscilloscope to make sure that the corner frequency is what you expected.</span>**\n",
    "\n",
    "This part is very important! Suppose you were to build the entire Color Organ in one go, and then we found out the filters seemed to not be working correctly. It would be really difficult to figure out which one is causing the problem!"
   ]
  },
  {
   "cell_type": "markdown",
   "metadata": {},
   "source": [
    "<a id='task2'></a>\n",
    "## <span style=\"color:blue\">Task 2: Amplify the Filter Output</span>\n",
    "\n",
    "### Materials\n",
    "- Task 1 setup\n",
    "- Various Caps and Resistors\n",
    "- Op-amp"
   ]
  },
  {
   "cell_type": "markdown",
   "metadata": {},
   "source": [
    "After filtering, you might find that the signal isn't quite large enough to turn on the LEDs reliably - we can fix this with amplification.\n",
    "\n",
    "Build a non-inverting amplifier with a gain of 2 - you may need to change the gain later depending on your setup and the music you want to play, and it might become a buffer in the end. Use the same rail voltages as the mic board (+/-5V). Remember that the output voltage needs in the range of Volts, and different LEDs will require different amounts of voltage to turn them on.\n",
    "\n",
    "Connect the output of your filter to the input of your amplifier, and the output of your amplifier to a 10 $\\Omega$ resistor and LED as shown below.\n",
    "\n",
    "<img style=\"width: 600px\" src=\"images/low-pass-flow.png\">\n"
   ]
  },
  {
   "cell_type": "markdown",
   "metadata": {},
   "source": [
    "Hook up the output of your micboard up as the input of your low pass filter. Once you have built the circuit, make some noises at your microphone. Does the LED flash? Try playing some different frequencies from <a href='http://www.szynalski.com/tone-generator/'>this tone generator website</a> and make sure the LED lights up for lower tones rather than high ones. It may be easier to see this on a scope, so don't forget to probe the output too.\n",
    "\n",
    "**If the LED doesn't turn on then you may need more gain or your filter corner might be too low.**\n",
    "\n",
    "**Refer back to the frequency response you measured in the previous lab to see how you may need to adjust the gain or cutoff frequency.**"
   ]
  },
  {
   "cell_type": "markdown",
   "metadata": {},
   "source": [
    "<a id='task3'></a>\n",
    "## <span style=\"color:blue\">Task 3: The Treble</span>\n",
    "\n",
    "### Materials\n",
    "- Task 2 setup\n",
    "- Various Caps and Resistors\n",
    "- Opamp\n",
    "- Mic board"
   ]
  },
  {
   "cell_type": "markdown",
   "metadata": {},
   "source": [
    "Next, we will work with the high frequency sounds. Choose an appropriate corner frequency for a high pass filter. Again, because the frequencies are attentuated slowly in a first order filter, so you may want to choose a corner frequency closer to the middle of the High Frequencies range. Remember you can always change your corner frequency later.\n",
    "\n",
    "<b>Pick a frequency in the range 6000 - 8000 Hz.</b>\n",
    "\n",
    "Again, don't be afraid to change it later - you can always swap out a resistor to get the range you want.\n",
    "\n",
    "Once you have selected a corner frequency, repeat the analysis in Task 1 to choose a capacitor and resistor value."
   ]
  },
  {
   "cell_type": "code",
   "execution_count": null,
   "metadata": {
    "collapsed": true
   },
   "outputs": [],
   "source": [
    "Cornerfreq = 0 #YOUR VALUE HERE\n",
    "C = 0 #YOUR VALUE HERE\n",
    "\n",
    "R = 0 #YOUR CODE HERE\n",
    "\n",
    "print(\"Resistor: \", R)\n",
    "print(\"Capacitor: \", C)"
   ]
  },
  {
   "cell_type": "markdown",
   "metadata": {},
   "source": [
    "Build a high pass filter with the cutoff frequency you've chosen. <b>Make sure to test your filter with the function generator to ensure the cutoff frequency is in the right place. </b> Follow your filter with another non-inverting amplifier and LED/resistor just like before."
   ]
  },
  {
   "cell_type": "markdown",
   "metadata": {},
   "source": [
    "<b>Without disconnecting your low pass filter </b>, use the function generator instead of the mic board as the input to your circuit. Don't remove the mic board - just disconnect the wire from OUT! Vary the frequency of the signal from the function generator: does only one LED turn on at a time?\n",
    "\n",
    "Now, use your micboard instead of the function generator. You should now have something that looks like this:\n",
    "\n",
    "<img style=\"width: 600px\" src=\"images/low-high-flow.png\">\n",
    "\n",
    "\n",
    "Check that your amplifier and filter work as expected by playing some tones from the generator website. Do the LEDs still light up at different times? "
   ]
  },
  {
   "cell_type": "markdown",
   "metadata": {},
   "source": [
    "Try playing some music to your very basic color organ and watch it flash in time to the music! Feel free to mix up your gain and corner frequencies to make the LEDs more sensitive if you don't like how they look.\n",
    "\n",
    "<img width='30px' align='left' src=\"http://inst.eecs.berkeley.edu/~ee16b/sp16/lab_pics/check.png\">\n",
    "<br/>\n",
    " <span style=\"color:green\">CHECKPOINT FOR WEEK 1</span>\n",
    "\n",
    "<span style=\"color:green\">Show your GSI your System's Frequency Response and your Bass and Treble LEDs flashing independently to varying frquencies.</span>\n",
    " \n",
    "# <span style=\"color:red\">KEEP YOUR CIRCUIT FOR NEXT WEEK! YOU WILL NEED IT!</span>"
   ]
  },
  {
   "cell_type": "markdown",
   "metadata": {},
   "source": [
    "<a id='task3'></a>\n",
    "## <span style=\"color:blue\">Task 4: The Midrange</span>\n",
    "\n",
    "### Materials\n",
    "- Task 3 setup\n",
    "- Various Caps and Resistors\n",
    "- Opamps\n",
    "- Mic board"
   ]
  },
  {
   "cell_type": "markdown",
   "metadata": {},
   "source": [
    "Now that you have taken care of the bass and treble, lets work on the middle frequencies. This time, we will need to build a band-pass filter. Think about the filters you built in Tasks 1 and 3 and how they can be combined to make a bandpass filter. We want to cut out low and high frequencies, but leave the middle intact. Think about how we can combine a low pass and high pass filter to achieve this affect.\n",
    "\n",
    "However, there is one thing we need to keep in mind while building this filter - we can't just connect two first order filters together. Lets consider what would happen if we connected our high pass filter directly to a low pass filter.\n",
    "\n",
    "<img style=\"width: 400px\" src=\"images/WrongFilter_withX.png\">\n",
    "\n",
    "Using our impedence analysis, we can analyze this system, and we'll find the the cut-off frequency isn't what we want.\n",
    "\n",
    "Our usual analysis of an RC filter assumes an ideal voltage source is connected to the input, and nothing is connected to the output. What tool do we have with high input impedence and low output impedance? \n",
    "\n",
    "The correct way to set up your band-pass filter is to use a buffer between the first and second filter:\n",
    "<img style=\"width: 500px\" src=\"images/RightFilter.png\">"
   ]
  },
  {
   "cell_type": "markdown",
   "metadata": {},
   "source": [
    "Some extra design considerations to keep in mind:\n",
    "- Most music is composed of midrange frequencies, which means they will be your strongest signals. You may want less gain in the mid-range.\n",
    "- You are using first order filters, so you will want to choose a narrower band of mid-range frequencies rather than the same cut-off frequencies as the high and low bands.\n",
    "\n",
    "Pick your cutoff frequencies:\n",
    "- for your high pass filter in the range of 800 ~ 1000 Hz\n",
    "- for your low pass filter in the range of 3000 ~ 5000 Hz\n",
    "\n",
    "Chose your capacitor and resistor values just like you did for the other filters."
   ]
  },
  {
   "cell_type": "code",
   "execution_count": null,
   "metadata": {
    "collapsed": true
   },
   "outputs": [],
   "source": [
    "#YOUR CODE HERE\n",
    "\n",
    "print(\"Resistor High: \", R1)\n",
    "print(\"Capacitor High: \", C1)\n",
    "print(\"Resistor Low: \", R2)\n",
    "print(\"Capacitor Low: \", C2)"
   ]
  },
  {
   "cell_type": "markdown",
   "metadata": {},
   "source": [
    "Again, build <b>TWO NEW</b> filters and test each cutoff frequency with the function generator. Then, connect the two filters with the buffer as shown above. Test this combination with the function generator too - make sure that only mid-range frequencies are making it through.\n",
    "\n",
    "(Hint: If the behavior isn't quite right, make sure that your high pass filter has the <i>lower </i> cutoff frequency)\n",
    "\n",
    "**<span style=\"color:red\">Build a third non-inverting amplifier (again, you can choose the gain) and connect the output to a 10 $\\Omega$ resistor and an LED.</span>**"
   ]
  },
  {
   "cell_type": "markdown",
   "metadata": {},
   "source": [
    "Hook up your band pass filter in parallel with the others, and use the output of your mic board as an input for your band pass filter."
   ]
  },
  {
   "cell_type": "markdown",
   "metadata": {},
   "source": [
    "Remember, the color organ will perform differently for different types of music. A classical song will have a different spectrum from a dubstep song. Feel free to tweak your corner frequencies and gains to suit the songs your LEDs are jamming out to.  "
   ]
  },
  {
   "cell_type": "markdown",
   "metadata": {},
   "source": [
    "## LED Troubleshooting\n",
    "There are a couple of cases when your LEDs don't seem to be working correctly:\n",
    "- If your LEDs are turning on, but are not very bright, try increasing the gain of your non-inverting amplifiers\n",
    "- If your LEDs are turning on, but not all that often, try changing your corner frequencies to increase the range of the Bass/Mid Band/Treble filters\n",
    "- If your LED never turns off, try switching the current limiting resistor from $10\\Omega$ to $100\\Omega$ "
   ]
  },
  {
   "cell_type": "markdown",
   "metadata": {},
   "source": [
    "<img width='30px' align='left' src=\"http://inst.eecs.berkeley.edu/~ee16b/sp16/lab_pics/check.png\">\n",
    "<br/>\n",
    "## <span style=\"color:green\">CHECKPOINT 2</span>\n",
    " <span style=\"color:green\">Show your GSI your working color organ!</span>\n",
    " \n",
    "Congratulations, you have built a working color organ! Time to party."
   ]
  }
 ],
 "metadata": {
  "anaconda-cloud": {},
  "kernelspec": {
   "display_name": "Python 3",
   "language": "python",
   "name": "python3"
  },
  "language_info": {
   "codemirror_mode": {
    "name": "ipython",
    "version": 3
   },
   "file_extension": ".py",
   "mimetype": "text/x-python",
   "name": "python",
   "nbconvert_exporter": "python",
   "pygments_lexer": "ipython3",
   "version": "3.6.3"
  }
 },
 "nbformat": 4,
 "nbformat_minor": 1
}
